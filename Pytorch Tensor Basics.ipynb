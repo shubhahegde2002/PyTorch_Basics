{
 "cells": [
  {
   "cell_type": "code",
   "execution_count": 1,
   "id": "395af997",
   "metadata": {},
   "outputs": [],
   "source": [
    "import torch"
   ]
  },
  {
   "cell_type": "code",
   "execution_count": 2,
   "id": "3507f2bf",
   "metadata": {},
   "outputs": [
    {
     "data": {
      "text/plain": [
       "'1.10.1'"
      ]
     },
     "execution_count": 2,
     "metadata": {},
     "output_type": "execute_result"
    }
   ],
   "source": [
    "torch.__version__"
   ]
  },
  {
   "cell_type": "code",
   "execution_count": 3,
   "id": "d6ddc249",
   "metadata": {},
   "outputs": [],
   "source": [
    "import numpy as np"
   ]
  },
  {
   "cell_type": "code",
   "execution_count": 5,
   "id": "4de60cbf",
   "metadata": {},
   "outputs": [],
   "source": [
    "lst=[3,4,5,6]\n",
    "arr=np.array(lst)"
   ]
  },
  {
   "cell_type": "code",
   "execution_count": 7,
   "id": "162bc952",
   "metadata": {},
   "outputs": [
    {
     "data": {
      "text/plain": [
       "dtype('int32')"
      ]
     },
     "execution_count": 7,
     "metadata": {},
     "output_type": "execute_result"
    }
   ],
   "source": [
    "arr.dtype"
   ]
  },
  {
   "cell_type": "markdown",
   "id": "d2ea45ce",
   "metadata": {},
   "source": [
    "## Convert Numpy to Pytorch Tensors"
   ]
  },
  {
   "cell_type": "code",
   "execution_count": 8,
   "id": "122d6d36",
   "metadata": {},
   "outputs": [
    {
     "data": {
      "text/plain": [
       "tensor([3, 4, 5, 6], dtype=torch.int32)"
      ]
     },
     "execution_count": 8,
     "metadata": {},
     "output_type": "execute_result"
    }
   ],
   "source": [
    "tensors=torch.from_numpy(arr) #disadvantage of from_numpy:Array and tensor use same memory location\n",
    "tensors"
   ]
  },
  {
   "cell_type": "code",
   "execution_count": 9,
   "id": "5f9b5286",
   "metadata": {},
   "outputs": [
    {
     "data": {
      "text/plain": [
       "tensor([3, 4], dtype=torch.int32)"
      ]
     },
     "execution_count": 9,
     "metadata": {},
     "output_type": "execute_result"
    }
   ],
   "source": [
    "tensors[:2]"
   ]
  },
  {
   "cell_type": "code",
   "execution_count": 10,
   "id": "4aaa34bb",
   "metadata": {},
   "outputs": [
    {
     "data": {
      "text/plain": [
       "tensor([3, 4, 5, 6], dtype=torch.int32)"
      ]
     },
     "execution_count": 10,
     "metadata": {},
     "output_type": "execute_result"
    }
   ],
   "source": [
    "tensor_arr=torch.tensor(arr) #Solves above problem\n",
    "tensor_arr"
   ]
  },
  {
   "cell_type": "code",
   "execution_count": 12,
   "id": "6625f3aa",
   "metadata": {},
   "outputs": [
    {
     "data": {
      "text/plain": [
       "tensor([ 3,  4,  5, 20], dtype=torch.int32)"
      ]
     },
     "execution_count": 12,
     "metadata": {},
     "output_type": "execute_result"
    }
   ],
   "source": [
    "tensor_arr[3]=20\n",
    "tensor_arr"
   ]
  },
  {
   "cell_type": "code",
   "execution_count": 15,
   "id": "0440ec07",
   "metadata": {},
   "outputs": [
    {
     "name": "stdout",
     "output_type": "stream",
     "text": [
      "tensor([[0., 0., 0.],\n",
      "        [0., 0., 0.]], dtype=torch.float64)\n",
      "tensor([[1, 1, 1],\n",
      "        [1, 1, 1]])\n"
     ]
    }
   ],
   "source": [
    "print(torch.zeros(2,3,dtype=torch.float64))\n",
    "print(torch.ones(2,3,dtype=torch.int64))\n"
   ]
  },
  {
   "cell_type": "markdown",
   "id": "e92a7202",
   "metadata": {},
   "source": [
    "## Arithmetic Operations"
   ]
  },
  {
   "cell_type": "code",
   "execution_count": 21,
   "id": "4b799364",
   "metadata": {},
   "outputs": [
    {
     "data": {
      "text/plain": [
       "tensor([3, 6, 9])"
      ]
     },
     "execution_count": 21,
     "metadata": {},
     "output_type": "execute_result"
    }
   ],
   "source": [
    "a=torch.tensor(np.arange(1,4))\n",
    "b=torch.tensor([2,4,6])\n",
    "a+b"
   ]
  },
  {
   "cell_type": "code",
   "execution_count": 22,
   "id": "2982e5ee",
   "metadata": {},
   "outputs": [
    {
     "data": {
      "text/plain": [
       "tensor([3, 6, 9])"
      ]
     },
     "execution_count": 22,
     "metadata": {},
     "output_type": "execute_result"
    }
   ],
   "source": [
    " torch.add(a,b)"
   ]
  },
  {
   "cell_type": "code",
   "execution_count": 25,
   "id": "8d3e2221",
   "metadata": {},
   "outputs": [
    {
     "data": {
      "text/plain": [
       "tensor(18)"
      ]
     },
     "execution_count": 25,
     "metadata": {},
     "output_type": "execute_result"
    }
   ],
   "source": [
    "torch.add(a,b).sum()"
   ]
  },
  {
   "cell_type": "markdown",
   "id": "c1e0bace",
   "metadata": {},
   "source": [
    "## Dot Products and Multiplication"
   ]
  },
  {
   "cell_type": "code",
   "execution_count": 28,
   "id": "f4436142",
   "metadata": {},
   "outputs": [
    {
     "name": "stdout",
     "output_type": "stream",
     "text": [
      "tensor([12., 20., 30.])\n",
      "tensor(62.)\n"
     ]
    }
   ],
   "source": [
    "x=torch.tensor([3,4,5],dtype=torch.float)\n",
    "y=torch.tensor([4,5,6],dtype=torch.float)\n",
    "print(x.mul(y))   #Multiplication\n",
    "print(x.dot(y))   #Dot product"
   ]
  },
  {
   "cell_type": "code",
   "execution_count": 33,
   "id": "e2f58b75",
   "metadata": {},
   "outputs": [
    {
     "data": {
      "text/plain": [
       "tensor([[55, 53],\n",
       "        [90, 92]])"
      ]
     },
     "execution_count": 33,
     "metadata": {},
     "output_type": "execute_result"
    }
   ],
   "source": [
    "a=torch.tensor([[1,4,2],[1,5,5]])\n",
    "b=torch.tensor([[5,7],[8,6],[9,11]])   #2D array\n",
    "torch.matmul(a,b) #OR a@b   for Matrix Multiplication"
   ]
  },
  {
   "cell_type": "code",
   "execution_count": 35,
   "id": "faffcf9e",
   "metadata": {},
   "outputs": [
    {
     "data": {
      "text/plain": [
       "tensor([[55, 53],\n",
       "        [90, 92]])"
      ]
     },
     "execution_count": 35,
     "metadata": {},
     "output_type": "execute_result"
    }
   ],
   "source": [
    "a@b"
   ]
  },
  {
   "cell_type": "code",
   "execution_count": null,
   "id": "f60aa65e",
   "metadata": {},
   "outputs": [],
   "source": []
  }
 ],
 "metadata": {
  "kernelspec": {
   "display_name": "Python 3 (ipykernel)",
   "language": "python",
   "name": "python3"
  },
  "language_info": {
   "codemirror_mode": {
    "name": "ipython",
    "version": 3
   },
   "file_extension": ".py",
   "mimetype": "text/x-python",
   "name": "python",
   "nbconvert_exporter": "python",
   "pygments_lexer": "ipython3",
   "version": "3.9.7"
  }
 },
 "nbformat": 4,
 "nbformat_minor": 5
}
